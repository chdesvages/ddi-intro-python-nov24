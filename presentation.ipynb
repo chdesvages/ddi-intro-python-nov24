{
 "cells": [
  {
   "cell_type": "markdown",
   "metadata": {
    "hide_input": true,
    "slideshow": {
     "slide_type": "slide"
    }
   },
   "source": [
    "# Introduction to Python - [SESSION] - [DATE]\n",
    "\n",
    "Charlotte Desvages"
   ]
  },
  {
   "cell_type": "markdown",
   "metadata": {
    "slideshow": {
     "slide_type": "slide"
    }
   },
   "source": [
    "## Welcome!\n",
    "\n",
    "Today I'll give you an overview of what Python looks like, some examples of what it can do, and point you towards great resources to continue learning."
   ]
  },
  {
   "cell_type": "markdown",
   "metadata": {
    "slideshow": {
     "slide_type": "fragment"
    }
   },
   "source": [
    "We will have **interactive code examples** throughout the session, which you'll be able to run yourselves.\n",
    "\n",
    "We'll use a cloud service called Binder -- no need to install anything!"
   ]
  },
  {
   "cell_type": "markdown",
   "metadata": {
    "slideshow": {
     "slide_type": "subslide"
    }
   },
   "source": [
    "## Zoom communication\n",
    "\n",
    "At the bottom of Zoom, use the **Reactions** menu:\n",
    "\n",
    "<img src=\"graphics/zoom.png\" alt=\"Zoom non-verbal feedback buttons.\" width=\"400\"/>\n",
    "\n",
    "You can also use the **chat** to ask questions."
   ]
  },
  {
   "cell_type": "markdown",
   "metadata": {
    "slideshow": {
     "slide_type": "subslide"
    }
   },
   "source": [
    "### How do I code along?\n",
    "\n",
    "## [SHORT LINK TO GITHUB REPO]\n",
    "\n",
    "When you go to this URL, you should see the content of these slides. This is a **Jupyter notebook** -- a Python programming environment that runs in your browser. Wait until it loads completely (~1min), then:\n",
    "- scroll down until you see the flags 🚩🚩🚩. Then, click on the **Python code cell** just below. You should see a green frame appearing around it.\n",
    "- Click the <kbd>> Run</kbd> button in the toolbar at the top (or press <kbd>Ctrl</kbd> + <kbd>Enter</kbd> on your keyboard). This will **run** the code inside the cell, and you will see the result below.\n",
    "\n",
    "# 🚩🚩🚩 Example 1"
   ]
  },
  {
   "cell_type": "code",
   "execution_count": null,
   "metadata": {
    "scrolled": true
   },
   "outputs": [],
   "source": [
    "print('Success! :)')"
   ]
  },
  {
   "cell_type": "code",
   "execution_count": null,
   "metadata": {
    "scrolled": true,
    "slideshow": {
     "slide_type": "subslide"
    }
   },
   "outputs": [],
   "source": [
    "print('Success! :)')"
   ]
  },
  {
   "cell_type": "markdown",
   "metadata": {
    "slideshow": {
     "slide_type": "-"
    }
   },
   "source": [
    "When you've run the code, `Success! :)` should appear **below** the code cell. If that's the case, come back on Zoom and click the green \"yes\" button; if not, click the red \"no\" button. **Don't close your browser tab or you'll lose your progress!**\n",
    "\n",
    "You can follow the presentation on Zoom. When there are code examples you can run and change yourself, they will be flagged with 🚩🚩🚩 if you want to jump back into your notebook."
   ]
  },
  {
   "cell_type": "markdown",
   "metadata": {
    "slideshow": {
     "slide_type": "slide"
    }
   },
   "source": [
    "## What is Python?\n",
    "\n",
    "\"Python\" refers to both the **programming language** and the **interpreter**. The interpreter is the tool which instructs your computer to execute the code you write."
   ]
  },
  {
   "cell_type": "markdown",
   "metadata": {
    "slideshow": {
     "slide_type": "fragment"
    }
   },
   "source": [
    "### Why should I learn Python?\n",
    "\n",
    "- It's **easier to learn** than most other languages.\n",
    "- It's **free** and open-source, and available on all major platforms.\n",
    "- There are a **lot** of well-maintained third-party libraries available for a wide variety of applications. We will see a couple of these today!\n",
    "- It has a very **large and welcoming community**, which is growing every day."
   ]
  },
  {
   "cell_type": "markdown",
   "metadata": {
    "slideshow": {
     "slide_type": "slide"
    }
   },
   "source": [
    "## Let's go!\n",
    "\n",
    "First, let's get Python to show us something, using the `print()` command."
   ]
  },
  {
   "cell_type": "code",
   "execution_count": null,
   "metadata": {},
   "outputs": [],
   "source": []
  },
  {
   "cell_type": "markdown",
   "metadata": {
    "slideshow": {
     "slide_type": "notes"
    }
   },
   "source": [
    "We've seen `print()` a minute ago, this was the first command we used to display \"Success!\".\n",
    "\n",
    "Here are a couple more examples:\n",
    "\n",
    "```python\n",
    "print(20)\n",
    "print(3 + 4)\n",
    "print(4 * 3)\n",
    "print('Hello!')\n",
    "```\n",
    "\n",
    "We can\n",
    "\n",
    "- show numbers,\n",
    "- calculate new numbers, and show the result,\n",
    "- show text using quotation marks."
   ]
  },
  {
   "cell_type": "markdown",
   "metadata": {
    "slideshow": {
     "slide_type": "slide"
    }
   },
   "source": [
    "## Variables and objects\n",
    "\n",
    "In Python, all data is an **object** of a certain **type**. For example, we've seen number objects (`456`, `2 + 3`...), and string objects which represent text (`'Success! :)'`).\n",
    "\n",
    "We can store objects in memory to reuse them later, using **variables**."
   ]
  },
  {
   "cell_type": "markdown",
   "metadata": {
    "slideshow": {
     "slide_type": "subslide"
    }
   },
   "source": [
    "A **variable** is a **label** to some place in your computer's memory, where an object is stored.\n",
    "\n",
    "We often say that, in Python, a variable *points to* or *refers to* an object. It's a **name** we choose for an object."
   ]
  },
  {
   "cell_type": "code",
   "execution_count": null,
   "metadata": {
    "slideshow": {
     "slide_type": "fragment"
    }
   },
   "outputs": [],
   "source": [
    "a = 0.5\n",
    "print(a)"
   ]
  },
  {
   "cell_type": "markdown",
   "metadata": {
    "slideshow": {
     "slide_type": "-"
    }
   },
   "source": [
    "<img alt=\"Assigning 0.5 to a\" src=\"graphics/var1.png\" width=600px>"
   ]
  },
  {
   "cell_type": "markdown",
   "metadata": {
    "slideshow": {
     "slide_type": "notes"
    }
   },
   "source": [
    "We assign a variable using the `=` sign, which doesn't mean the same thing as in mathematics!\n",
    "\n",
    "- Python evaluates the right hand side of the `=` sign.\n",
    "- Then, it gives it the name you chose on the left hand side -- here, `a`.\n",
    "- If we want to use that object (that value) later, we can call it by its name."
   ]
  },
  {
   "cell_type": "markdown",
   "metadata": {
    "slideshow": {
     "slide_type": "subslide"
    }
   },
   "source": [
    "# 🚩🚩🚩 Example 2\n",
    "\n",
    "What will be the output of each of these cells?"
   ]
  },
  {
   "cell_type": "code",
   "execution_count": null,
   "metadata": {},
   "outputs": [],
   "source": [
    "a = 0.5\n",
    "b = a + 2\n",
    "print(b)"
   ]
  },
  {
   "cell_type": "code",
   "execution_count": null,
   "metadata": {},
   "outputs": [],
   "source": [
    "c = a * b\n",
    "print(c)"
   ]
  },
  {
   "cell_type": "code",
   "execution_count": null,
   "metadata": {
    "slideshow": {
     "slide_type": "subslide"
    }
   },
   "outputs": [],
   "source": [
    "a = a + 1\n",
    "print(a)"
   ]
  },
  {
   "cell_type": "code",
   "execution_count": null,
   "metadata": {
    "slideshow": {
     "slide_type": "-"
    }
   },
   "outputs": [],
   "source": [
    "x = 1\n",
    "y = x\n",
    "x = 2\n",
    "print(y)"
   ]
  },
  {
   "cell_type": "markdown",
   "metadata": {
    "slideshow": {
     "slide_type": "fragment"
    }
   },
   "source": [
    "| `x = 1 ` | `y = x` | `x = 2` |\n",
    "|:---:|:---:|:---:|\n",
    "| ![x = 1](graphics/xy_1.png) | ![y = x](graphics/xy_2.png) | ![x = 2](graphics/xy_3.png) |"
   ]
  },
  {
   "cell_type": "markdown",
   "metadata": {
    "slideshow": {
     "slide_type": "notes"
    }
   },
   "source": [
    "The way Python interprets `y = x` is to give a second possible name, `y`, with which we can refer to the object that is already named `x`. It won't copy the object to a separate box if it's not necessary."
   ]
  },
  {
   "cell_type": "code",
   "execution_count": null,
   "metadata": {
    "slideshow": {
     "slide_type": "subslide"
    }
   },
   "outputs": [],
   "source": [
    "s = \"ABC\"\n",
    "t = 3 * s\n",
    "print(t)"
   ]
  },
  {
   "cell_type": "code",
   "execution_count": null,
   "metadata": {
    "slideshow": {
     "slide_type": "-"
    }
   },
   "outputs": [],
   "source": [
    "s = s + 'aaaaaa' + t\n",
    "print(s)"
   ]
  },
  {
   "cell_type": "markdown",
   "metadata": {
    "slideshow": {
     "slide_type": "notes"
    }
   },
   "source": [
    "So far we've performed operations with numbers, but numbers aren't the only type of object available in Python.\n",
    "\n",
    "We have seen a couple of examples of **strings** earlier. We can create a string of characters by typing them enclosed in quotation marks.\n",
    "\n",
    "Python can also manipulate strings. Here are a couple of examples:\n",
    "\n",
    "- multiply a string by a number -- what happens?\n",
    "- add two strings together -- what happens?\n",
    "\n",
    "Python interprets `+` and `*` differently if you are operating with different object types."
   ]
  },
  {
   "cell_type": "markdown",
   "metadata": {
    "slideshow": {
     "slide_type": "slide"
    }
   },
   "source": [
    "## Data types\n",
    "\n",
    "Python can tell us what *type* an object is, using the function `type()`."
   ]
  },
  {
   "cell_type": "code",
   "execution_count": null,
   "metadata": {},
   "outputs": [],
   "source": [
    "c = 1\n",
    "print(type(c))\n",
    "\n",
    "c = c / 2\n",
    "print(c)\n",
    "print(type(c))"
   ]
  },
  {
   "cell_type": "markdown",
   "metadata": {
    "slideshow": {
     "slide_type": "notes"
    }
   },
   "source": [
    "Now, if we divide 1 by 2, what should we get?\n",
    "\n",
    "```python\n",
    "c = c / 2\n",
    "print(c)\n",
    "print(type(c))\n",
    "```\n",
    "\n",
    "`c` is now a `float` (floating point number), which is how computers represent decimal numbers.\n",
    "\n",
    "Python usually knows to choose the appropriate **number type** automatically. We say that Python is **duck-typed** -- if it walks like a `float` and quacks like a `float`, then it's probably a `float`."
   ]
  },
  {
   "cell_type": "markdown",
   "metadata": {
    "slideshow": {
     "slide_type": "subslide"
    }
   },
   "source": [
    "## A useful type to make decisions: `bool`\n"
   ]
  },
  {
   "cell_type": "code",
   "execution_count": null,
   "metadata": {
    "slideshow": {
     "slide_type": "fragment"
    }
   },
   "outputs": [],
   "source": [
    "a = False\n",
    "b = True\n",
    "\n",
    "if a and b:\n",
    "    print('a and b are both True.')"
   ]
  },
  {
   "cell_type": "markdown",
   "metadata": {
    "slideshow": {
     "slide_type": "notes"
    }
   },
   "source": [
    "The keywords `True` and `False` represent what we call **Boolean** or logical values.\n",
    "\n",
    "We can use these to **make decisions** in our code, for example to run a command only under a certain condition.\n",
    "\n",
    "---\n",
    "\n",
    "```python\n",
    "if a and b:\n",
    "    print('a and b are both True.')\n",
    "else:\n",
    "    print('At least one of a and b is False.')\n",
    "```\n",
    "\n",
    "This is called a **conditional structure**. The code that is **indented** below the `if` and `else` statements only runs under the specified conditions.\n",
    "\n",
    "The different **branches** are checked in order (top to bottom), and only **one** is executed.\n",
    "\n",
    "You can have as many instructions as you like in each branch.\n",
    "\n",
    "---\n",
    "\n",
    "Useful **logical keywords** we can use are `and`, `or`, `not`.\n",
    "\n",
    "We can also add more branches, and **nest** these structures inside each other:\n",
    "\n",
    "```python\n",
    "if a and b:\n",
    "    print('a and b are both True.')\n",
    "    print('Still true!')\n",
    "elif (not a) and (not b):\n",
    "    print('They\\'re both false.')\n",
    "else:\n",
    "    if a:\n",
    "        print('Only a is true.')\n",
    "    else:\n",
    "        print('Only b is true.')\n",
    "```"
   ]
  },
  {
   "cell_type": "code",
   "execution_count": null,
   "metadata": {
    "slideshow": {
     "slide_type": "subslide"
    }
   },
   "outputs": [],
   "source": []
  },
  {
   "cell_type": "markdown",
   "metadata": {
    "slideshow": {
     "slide_type": "notes"
    }
   },
   "source": [
    "We can also **construct Booleans** using **comparison operators**.\n",
    "\n",
    "```python\n",
    "x = 10\n",
    "y = 1\n",
    "\n",
    "print(x >= y)\n",
    "```"
   ]
  },
  {
   "cell_type": "markdown",
   "metadata": {
    "slideshow": {
     "slide_type": "slide"
    }
   },
   "source": [
    "# 🚩🚩🚩 Example 3\n",
    "\n",
    "Let's play **Guess the number**:"
   ]
  },
  {
   "cell_type": "code",
   "execution_count": null,
   "metadata": {},
   "outputs": [],
   "source": [
    "# Import the \"random\" library\n",
    "import random   # a comment after some code\n",
    "\n",
    "# Generate a random number between 1 and 10\n",
    "target = random.randint(1, 10)\n",
    "\n",
    "# Ask user to type a number\n",
    "guess = int(input('Guess the number! '))\n",
    "\n",
    "# Keep guessing while we haven't guessed correctly yet\n",
    "while target != guess:\n",
    "    guess = int(input('Wrong number, guess again? '))\n",
    "\n",
    "print('Victory!')"
   ]
  },
  {
   "cell_type": "markdown",
   "metadata": {
    "slideshow": {
     "slide_type": "notes"
    }
   },
   "source": [
    "There are a few new commands here, but hopefully they are fairly straightforward to understand.\n",
    "\n",
    "Let's run the code first and see how this works.\n",
    "\n",
    "---\n",
    "\n",
    "- `import` is used to bring in some added functionalities which are not available in vanilla Python. Here, we want to generate random numbers. We import the `random` library to be able to do this, using the `randint()` function.\n",
    "- `input()` is used to ask for interactive input. This is how you can type in your guesses.\n",
    "- `int()` is used to convert what you typed into an `int`. By default, it's a string, we need to tell Python to convert it to an actual number, so it can compare it to the target.\n",
    "- `while` starts a **loop**. A loop is used to **repeat** some code a certain number of times. Here, we want to repeat the command which asks us to guess again, for **as long as** the guess is not equal to the target.\n",
    "\n",
    "---\n",
    "\n",
    "The game is a little bit difficult since we guess randomly every time; how could we make it a bit easier?"
   ]
  },
  {
   "cell_type": "markdown",
   "metadata": {
    "slideshow": {
     "slide_type": "slide"
    }
   },
   "source": [
    "## Containers: lists and dictionaries\n",
    "\n",
    "Python also has objects which can *contain* several other objects inside them -- they're called **containers**."
   ]
  },
  {
   "cell_type": "code",
   "execution_count": null,
   "metadata": {
    "slideshow": {
     "slide_type": "subslide"
    }
   },
   "outputs": [],
   "source": [
    "# Create a list called a\n",
    "a = [1, 2, 3, 10, 6]\n",
    "print(a)\n",
    "print(a[4])"
   ]
  },
  {
   "cell_type": "markdown",
   "metadata": {},
   "source": [
    "<img alt=\"The list a in memory\" src=\"graphics/lists.png\" width=800px>"
   ]
  },
  {
   "cell_type": "code",
   "execution_count": null,
   "metadata": {
    "slideshow": {
     "slide_type": "fragment"
    }
   },
   "outputs": [],
   "source": [
    "# Change individual elements\n",
    "a[3] = -5\n",
    "print(a)"
   ]
  },
  {
   "cell_type": "markdown",
   "metadata": {
    "slideshow": {
     "slide_type": "notes"
    }
   },
   "source": [
    "I can also **change** individual elements of the list. For example, how could I change the `10` to `-5`?"
   ]
  },
  {
   "cell_type": "markdown",
   "metadata": {
    "slideshow": {
     "slide_type": "subslide"
    }
   },
   "source": [
    "We can put anything in a list -- even other lists!"
   ]
  },
  {
   "cell_type": "code",
   "execution_count": null,
   "metadata": {},
   "outputs": [],
   "source": [
    "a = ['my', 1, 4.5, ['you', 'they', True], 432, -2.3, 33, [False, 1]]\n"
   ]
  },
  {
   "cell_type": "markdown",
   "metadata": {
    "slideshow": {
     "slide_type": "notes"
    }
   },
   "source": [
    "How would I print only `'they'` here? Remember that Python starts indexing at zero."
   ]
  },
  {
   "cell_type": "markdown",
   "metadata": {
    "slideshow": {
     "slide_type": "subslide"
    }
   },
   "source": [
    "**Dictionaries** are similar to lists, but indexes elements with a **label** instead of a number."
   ]
  },
  {
   "cell_type": "code",
   "execution_count": null,
   "metadata": {},
   "outputs": [],
   "source": [
    "# Create a dictionary called scores\n",
    "scores = {'Alice': 80, 'Bob': 64, 'Charlie': 72}\n",
    "print(scores['Alice'])\n"
   ]
  },
  {
   "cell_type": "markdown",
   "metadata": {},
   "source": [
    "<img alt=\"The dictionary scores in memory\" src=\"graphics/dict.png\" width=800px>"
   ]
  },
  {
   "cell_type": "markdown",
   "metadata": {
    "slideshow": {
     "slide_type": "notes"
    }
   },
   "source": [
    "I can easily add new elements to a dictionary:\n",
    "\n",
    "```python\n",
    "scores['Dara'] = 99\n",
    "print(scores)\n",
    "```"
   ]
  },
  {
   "cell_type": "markdown",
   "metadata": {
    "slideshow": {
     "slide_type": "slide"
    }
   },
   "source": [
    "## Python and data: the `pandas` library\n",
    "\n",
    "A **library** is a bit like an extra toolbox with specialist tools.\n",
    "\n",
    "`pandas` (Python Data Analysis Library) is particularly useful to deal with data."
   ]
  },
  {
   "cell_type": "code",
   "execution_count": null,
   "metadata": {},
   "outputs": [],
   "source": [
    "import pandas as pd\n"
   ]
  },
  {
   "cell_type": "markdown",
   "metadata": {},
   "source": [
    "We'll use the [astronauts database](https://github.com/rfordatascience/tidytuesday/tree/master/data/2020/2020-07-14)."
   ]
  },
  {
   "cell_type": "code",
   "execution_count": null,
   "metadata": {
    "slideshow": {
     "slide_type": "fragment"
    }
   },
   "outputs": [],
   "source": [
    "astronauts = pd.read_csv('astronauts.csv')\n",
    "print(type(astronauts))"
   ]
  },
  {
   "cell_type": "markdown",
   "metadata": {
    "slideshow": {
     "slide_type": "notes"
    }
   },
   "source": [
    "For the second part of this session, I'm going to show you some examples of various things we can do with data in Python, using a library called **pandas** for manipulating data, and another library called **seaborn** for visualising data."
   ]
  },
  {
   "cell_type": "markdown",
   "metadata": {
    "slideshow": {
     "slide_type": "subslide"
    }
   },
   "source": [
    "# 🚩🚩🚩 Example 4\n",
    "\n",
    "Run the cell below to import pandas and read the CSV file."
   ]
  },
  {
   "cell_type": "code",
   "execution_count": null,
   "metadata": {},
   "outputs": [],
   "source": [
    "import pandas as pd\n",
    "astronauts = pd.read_csv('astronauts.csv')"
   ]
  },
  {
   "cell_type": "markdown",
   "metadata": {
    "slideshow": {
     "slide_type": "subslide"
    }
   },
   "source": [
    "Then, try these commands (one at a time):\n",
    "\n",
    "```python\n",
    "print(astronauts.columns)\n",
    "astronauts.head()\n",
    "astronauts.tail()\n",
    "astronauts.head(10)\n",
    "```"
   ]
  },
  {
   "cell_type": "code",
   "execution_count": null,
   "metadata": {},
   "outputs": [],
   "source": []
  },
  {
   "cell_type": "markdown",
   "metadata": {
    "slideshow": {
     "slide_type": "slide"
    }
   },
   "source": [
    "## Summary statistics"
   ]
  },
  {
   "cell_type": "code",
   "execution_count": null,
   "metadata": {
    "scrolled": false
   },
   "outputs": [],
   "source": [
    "astronauts['age'] = astronauts['year_of_mission'] - astronauts['year_of_birth']\n",
    "astronauts.head()"
   ]
  },
  {
   "cell_type": "code",
   "execution_count": null,
   "metadata": {
    "slideshow": {
     "slide_type": "subslide"
    }
   },
   "outputs": [],
   "source": [
    "astronauts['age'].describe()"
   ]
  },
  {
   "cell_type": "code",
   "execution_count": null,
   "metadata": {},
   "outputs": [],
   "source": [
    "# Find the name of the 5 oldest astronauts\n",
    "astronauts[['name', 'age']].sort_values(by='age', ascending=False).head(5)"
   ]
  },
  {
   "cell_type": "markdown",
   "metadata": {
    "slideshow": {
     "slide_type": "slide"
    }
   },
   "source": [
    "## Data visualisation with `seaborn`\n",
    "\n",
    "The `seaborn` documentation has a great [examples gallery](https://seaborn.pydata.org/examples/index.html). Let's visualise some of the astronauts data.\n",
    "\n",
    "# 🚩🚩🚩 Example 5\n",
    "\n",
    "We want to show the **distribution** of **military vs. civilian** *and* **male vs. female** astronauts over the years."
   ]
  },
  {
   "cell_type": "code",
   "execution_count": null,
   "metadata": {
    "scrolled": false
   },
   "outputs": [],
   "source": [
    "import seaborn as sns\n",
    "\n",
    "# Plot histograms using catplot\n",
    "grid = sns.catplot(data=astronauts,           # the dataframe\n",
    "                   x='year_of_mission',       # the x-axis (the bins)\n",
    "                   col='military_civilian',   # separate plots for each value in the column 'military_civilian'\n",
    "                   hue='sex',                 # different colours (hues) for male and female astronauts\n",
    "                   kind='count',              # the type of plot (countplot, or a histogram)\n",
    "                   legend=True,               # display the legend for the different colours\n",
    "                   col_wrap=1,                # start new row of subplots after just 1 plot\n",
    "                   height=3,                  # height of each plot\n",
    "                   aspect=4)                  # aspect ratio of each plot (width/height)\n",
    "\n",
    "# Rotate the tick labels so we can read them all\n",
    "grid.set_xticklabels(rotation=45,\n",
    "                     verticalalignment='top',\n",
    "                     horizontalalignment='right')"
   ]
  },
  {
   "cell_type": "markdown",
   "metadata": {
    "slideshow": {
     "slide_type": "subslide"
    }
   },
   "source": [
    "Let's look at flights to Mir and to the International Space Station."
   ]
  },
  {
   "cell_type": "code",
   "execution_count": null,
   "metadata": {
    "scrolled": false
   },
   "outputs": [],
   "source": [
    "# \"|\" here means \"or\", but works on whole dataframes\n",
    "rows = (astronauts['in_orbit'] == 'Mir') | (astronauts['in_orbit'] == 'ISS')\n",
    "columns = ['year_of_mission', 'ascend_shuttle', 'in_orbit', 'hours_mission']\n",
    "station_trips = astronauts.loc[rows, columns]\n",
    "\n",
    "# Group labels together\n",
    "station_trips.loc[station_trips['ascend_shuttle'].str.contains('soyuz', case=False), 'ascend_shuttle'] = 'Soyuz'\n",
    "station_trips.loc[station_trips['ascend_shuttle'].str.contains('sts', case=False), 'ascend_shuttle'] = 'Space Shuttle'\n",
    "\n",
    "ax = sns.relplot(data=station_trips,\n",
    "                 x='year_of_mission',\n",
    "                 y='hours_mission',\n",
    "                 hue='ascend_shuttle',\n",
    "                 style='in_orbit',\n",
    "                 height=6,\n",
    "                 aspect=2)\n",
    "\n",
    "ax.set_xticklabels(rotation=45,\n",
    "                   verticalalignment='top',\n",
    "                   horizontalalignment='right')"
   ]
  },
  {
   "cell_type": "markdown",
   "metadata": {
    "slideshow": {
     "slide_type": "subslide"
    }
   },
   "source": [
    "# 🚩🚩🚩 Example 6\n",
    "\n",
    "- Change the code above to display the sex of the astronauts in 2 different colours, instead of the ascend shuttle.\n",
    "- Change `'hours_mission'` to `'age'` above to plot the age of astronauts going to Mir or the ISS over the years.\n",
    "- What is the average duration of a mission to Mir? to the ISS?\n",
    "- How long was the longest mission, in **days**? Who was the astronaut?\n",
    "- Which countries have sent civilians to space?\n",
    "- How many astronauts were from the USSR?"
   ]
  },
  {
   "cell_type": "code",
   "execution_count": null,
   "metadata": {
    "slideshow": {
     "slide_type": "subslide"
    }
   },
   "outputs": [],
   "source": [
    "# Average duration of a mission to Mir and to the ISS\n",
    "print(station_trips.loc[station_trips['in_orbit'] == 'Mir', 'hours_mission'].mean())\n",
    "print(station_trips.loc[station_trips['in_orbit'] == 'ISS', 'hours_mission'].mean())"
   ]
  },
  {
   "cell_type": "code",
   "execution_count": null,
   "metadata": {},
   "outputs": [],
   "source": [
    "# Longest mission, in days, and astronaut name\n",
    "max_hours = station_trips['hours_mission'].max()\n",
    "print(max_hours / 24)\n",
    "\n",
    "# Display the name of the astronaut, nationality, and year of mission\n",
    "astronauts.loc[astronauts['hours_mission'] == max_hours, ['name', 'nationality', 'year_of_mission']]"
   ]
  },
  {
   "cell_type": "code",
   "execution_count": null,
   "metadata": {
    "scrolled": true
   },
   "outputs": [],
   "source": [
    "# 26 countries have sent civilians to space\n",
    "print(astronauts.loc[astronauts['military_civilian'] == 'civilian', 'nationality'].unique())\n",
    "print(astronauts.loc[astronauts['military_civilian'] == 'civilian', 'nationality'].nunique())"
   ]
  },
  {
   "cell_type": "code",
   "execution_count": null,
   "metadata": {},
   "outputs": [],
   "source": [
    "# Count unique astronauts from the USSR (Russia + Ukraine)\n",
    "astronauts.loc[astronauts['nationality'].str.startswith('U.S.S.R'), 'name'].nunique()"
   ]
  },
  {
   "cell_type": "markdown",
   "metadata": {
    "slideshow": {
     "slide_type": "slide"
    }
   },
   "source": [
    "## What's next?\n",
    "\n",
    "Install Python to run code on your computer:\n",
    "- If you're interested in doing data science or scientific computing, install [Anaconda](https://www.anaconda.com/products/individual). This will install Python, Jupyter (what we've used today), Spyder (an IDE), together with lots of useful libraries, like pandas, seaborn, and many others. Installing new packages after that is also straightforward with `conda`.\n",
    "- If you just want Python (e.g. for scripting), you can also [install it directly](https://www.python.org/downloads/). Installing new packages can then be done e.g. with `pip`.\n",
    "\n",
    "The current stable version of Python is 3.10 (released a few weeks ago). Version 3.8 will also be fully supported until 2024.\n"
   ]
  },
  {
   "cell_type": "markdown",
   "metadata": {
    "slideshow": {
     "slide_type": "subslide"
    }
   },
   "source": [
    "## What's next?\n",
    "\n",
    "Learn more about Python:\n",
    "- The official [Python documentation](https://docs.python.org/3/) includes a comprehensive [tutorial](https://docs.python.org/3/tutorial/index.html) for beginners.\n",
    "- Two excellent free online books by Jake VanderPlas:\n",
    "    - [A Whirlwind Tour of Python](https://jakevdp.github.io/WhirlwindTourOfPython/)\n",
    "    - [The Python Data Science Handbook](https://jakevdp.github.io/PythonDataScienceHandbook/)\n",
    "- [Software Carpentry](https://software-carpentry.org/) is a non-profit which run regular workshops to teach Python (and other things!), for different levels of experience. All their teaching materials are open-source and [freely available online](https://software-carpentry.org/lessons/), they're great to follow along for self-teaching. The [Edinburgh branch](https://edcarp.github.io/) is also quite active and holds regular workshops."
   ]
  },
  {
   "cell_type": "markdown",
   "metadata": {
    "slideshow": {
     "slide_type": "subslide"
    }
   },
   "source": [
    "## What's next?\n",
    "\n",
    "Learn more about Python for data science and scientific computing:\n",
    "\n",
    "- The pandas documentation has excellent [Getting Started tutorials](https://pandas.pydata.org/docs/getting_started/intro_tutorials/) and [user guides](https://pandas.pydata.org/docs/user_guide/index.html). In particular, I'd recommend the tutorial [\"10 minutes to Pandas\"](https://pandas.pydata.org/docs/user_guide/10min.html).\n",
    "- The seaborn documentation also has great [tutorials](https://seaborn.pydata.org/tutorial.html) and a [showcase gallery](https://seaborn.pydata.org/examples/index.html).\n",
    "- [scikit-learn](https://scikit-learn.org/stable/) is a fantastic library for machine learning, it comes with lots of tools and algorithms for preprocessing, classification, regression, etc. [TensorFlow](https://www.tensorflow.org/overview) is also widely used. [PyTorch](https://pytorch.org/tutorials/beginner/deep_learning_60min_blitz.html) is great for deep learning as it can take advantage of parallel architectures.\n",
    "- For less data-oriented scientific computing, libraries like [NumPy](https://numpy.org/learn/) and [SciPy](https://scipy.github.io/devdocs/index.html) (also with a great [tutorial page](https://scipy.github.io/devdocs/tutorial/index.html)) are widely used, together with [matplotlib](https://matplotlib.org/stable/tutorials/index.html) for plotting.\n"
   ]
  },
  {
   "cell_type": "markdown",
   "metadata": {
    "slideshow": {
     "slide_type": "slide"
    }
   },
   "source": [
    "# Thank you!"
   ]
  }
 ],
 "metadata": {
  "celltoolbar": "Slideshow",
  "kernelspec": {
   "display_name": "Python 3 (ipykernel)",
   "language": "python",
   "name": "python3"
  },
  "language_info": {
   "codemirror_mode": {
    "name": "ipython",
    "version": 3
   },
   "file_extension": ".py",
   "mimetype": "text/x-python",
   "name": "python",
   "nbconvert_exporter": "python",
   "pygments_lexer": "ipython3",
   "version": "3.8.12"
  }
 },
 "nbformat": 4,
 "nbformat_minor": 4
}
